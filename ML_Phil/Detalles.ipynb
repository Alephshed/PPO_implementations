{
 "cells": [
  {
   "cell_type": "markdown",
   "metadata": {},
   "source": [
    "### [Jupyter 1]\n",
    "Implementación del discount o la ventaja, clarificar.\n",
    "¿Por qué no es recursivo?\n",
    "¿que es gae_lambda?\n",
    "¿que papel juega el dones? es para que sea 0 si done? que sentido tiene calcular la ventaja en ese caso?"
   ]
  },
  {
   "cell_type": "code",
   "execution_count": null,
   "metadata": {},
   "outputs": [],
   "source": []
  }
 ],
 "metadata": {
  "language_info": {
   "name": "python"
  }
 },
 "nbformat": 4,
 "nbformat_minor": 2
}
